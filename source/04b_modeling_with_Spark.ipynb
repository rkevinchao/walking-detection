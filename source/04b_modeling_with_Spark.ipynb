{
 "cells": [
  {
   "cell_type": "markdown",
   "id": "937a1091-e809-4c2e-b653-ed11a7fce9cd",
   "metadata": {},
   "source": [
    "* (1) Load features file with Spark\n",
    "* (2) Use VectorAssembler and StringIndexer to preprocess features and annotation labels\n",
    "* (3) Run Decision Tree Classifier"
   ]
  },
  {
   "cell_type": "code",
   "execution_count": 27,
   "id": "32dc6397-5763-4b60-8e6b-0b578033375d",
   "metadata": {},
   "outputs": [],
   "source": [
    "import findspark\n",
    "findspark.init()\n",
    "\n",
    "from pyspark.sql import SparkSession\n",
    "spark = SparkSession.builder.appName(\"YourAppName\").getOrCreate()\n",
    "\n",
    "from pyspark.ml.feature import VectorAssembler\n",
    "from pyspark.ml.classification import DecisionTreeClassifier\n",
    "from pyspark.ml.evaluation import MulticlassClassificationEvaluator\n",
    "from pyspark.ml.feature import StringIndexer"
   ]
  },
  {
   "cell_type": "code",
   "execution_count": 3,
   "id": "b139003f-ae94-4f5e-a982-8bb79321e7a7",
   "metadata": {},
   "outputs": [
    {
     "name": "stderr",
     "output_type": "stream",
     "text": [
      "                                                                                \r"
     ]
    }
   ],
   "source": [
    "# Load feature files with Spark\n",
    "df = spark.read.parquet(\"../outputs/df_features_all.parquet\")"
   ]
  },
  {
   "cell_type": "code",
   "execution_count": 4,
   "id": "e18ce981-0e1c-4636-abb7-40a1e7442b60",
   "metadata": {},
   "outputs": [
    {
     "data": {
      "text/plain": [
       "DataFrame[subject: string, walk_or_not: bigint, fea_acc_x_mean: double, fea_acc_x_std: double, fea_acc_x_min: double, fea_acc_x_max: double, fea_acc_y_mean: double, fea_acc_y_std: double, fea_acc_y_min: double, fea_acc_y_max: double, fea_acc_z_mean: double, fea_acc_z_std: double, fea_acc_z_min: double, fea_acc_z_max: double, fea_smv_mean: double, fea_smv_std: double, fea_smv_min: double, fea_smv_max: double, __index_level_0__: string]"
      ]
     },
     "execution_count": 4,
     "metadata": {},
     "output_type": "execute_result"
    }
   ],
   "source": [
    "# Quick look on the dataframe\n",
    "df"
   ]
  },
  {
   "cell_type": "code",
   "execution_count": 5,
   "id": "29fb3477-4c5f-488d-984b-8fd43786f275",
   "metadata": {},
   "outputs": [
    {
     "data": {
      "text/plain": [
       "[Row(subject='id650857ca', walk_or_not=1, fea_acc_x_mean=-0.01985191347753744, fea_acc_x_std=0.7305734007458594, fea_acc_x_min=-2.879, fea_acc_x_max=3.035, fea_acc_y_mean=1.2901231281198005, fea_acc_y_std=0.564906663897679, fea_acc_y_min=0.109, fea_acc_y_max=2.793, fea_acc_z_mean=0.18915640599001665, fea_acc_z_std=0.43573244950368045, fea_acc_z_min=-1.8360000000000003, fea_acc_z_max=1.352, fea_smv_mean=1.5075437010309913, fea_smv_std=0.6860202037338495, fea_smv_min=0.40363349712331853, fea_smv_max=3.4315750028230476, __index_level_0__='id650857ca_AnkleL_1_Walking_100_1')]"
      ]
     },
     "execution_count": 5,
     "metadata": {},
     "output_type": "execute_result"
    }
   ],
   "source": [
    "df.take(1)"
   ]
  },
  {
   "cell_type": "code",
   "execution_count": 6,
   "id": "6f9664e7-defa-468d-9709-0c83082ccfed",
   "metadata": {},
   "outputs": [
    {
     "name": "stdout",
     "output_type": "stream",
     "text": [
      "+----------+-----------+--------------------+------------------+-------------+-------------+------------------+------------------+-------------+-------------+-------------------+-------------------+-------------------+-------------+------------------+------------------+-------------------+------------------+--------------------+\n",
      "|   subject|walk_or_not|      fea_acc_x_mean|     fea_acc_x_std|fea_acc_x_min|fea_acc_x_max|    fea_acc_y_mean|     fea_acc_y_std|fea_acc_y_min|fea_acc_y_max|     fea_acc_z_mean|      fea_acc_z_std|      fea_acc_z_min|fea_acc_z_max|      fea_smv_mean|       fea_smv_std|        fea_smv_min|       fea_smv_max|   __index_level_0__|\n",
      "+----------+-----------+--------------------+------------------+-------------+-------------+------------------+------------------+-------------+-------------+-------------------+-------------------+-------------------+-------------+------------------+------------------+-------------------+------------------+--------------------+\n",
      "|id650857ca|          1|-0.01985191347753744|0.7305734007458594|       -2.879|        3.035|1.2901231281198005| 0.564906663897679|        0.109|        2.793|0.18915640599001665|0.43573244950368045|-1.8360000000000003|        1.352|1.5075437010309913|0.6860202037338495|0.40363349712331853|3.4315750028230476|id650857ca_AnkleL...|\n",
      "|id650857ca|          1|-0.05642429284525...|0.7672559190170922|       -2.746|        3.172|1.2943876871880198|0.5981381882929045|        0.039|        3.113|0.21284359400998337|0.46582993636487713|-1.8360000000000003|          1.5|1.5288419138082883|0.7416309397779476| 0.3275896823772079|3.6540763538820586|id650857ca_AnkleL...|\n",
      "|id650857ca|          1|-0.00578369384359...|0.7732032361501153|       -2.898|        3.344|1.3053743760399334|  0.58366167969844|        0.168|        3.074|0.19187188019966722| 0.4746155903748991|             -1.867|        1.539| 1.538352528039239|0.7335435842477863|0.31434694208787844|3.7998868404203825|id650857ca_AnkleL...|\n",
      "+----------+-----------+--------------------+------------------+-------------+-------------+------------------+------------------+-------------+-------------+-------------------+-------------------+-------------------+-------------+------------------+------------------+-------------------+------------------+--------------------+\n",
      "only showing top 3 rows\n",
      "\n"
     ]
    }
   ],
   "source": [
    "df.show(3)"
   ]
  },
  {
   "cell_type": "code",
   "execution_count": 7,
   "id": "00f7ad8e-e7a6-4660-adcc-67aab8ce551e",
   "metadata": {},
   "outputs": [
    {
     "data": {
      "text/plain": [
       "['subject',\n",
       " 'walk_or_not',\n",
       " 'fea_acc_x_mean',\n",
       " 'fea_acc_x_std',\n",
       " 'fea_acc_x_min',\n",
       " 'fea_acc_x_max',\n",
       " 'fea_acc_y_mean',\n",
       " 'fea_acc_y_std',\n",
       " 'fea_acc_y_min',\n",
       " 'fea_acc_y_max',\n",
       " 'fea_acc_z_mean',\n",
       " 'fea_acc_z_std',\n",
       " 'fea_acc_z_min',\n",
       " 'fea_acc_z_max',\n",
       " 'fea_smv_mean',\n",
       " 'fea_smv_std',\n",
       " 'fea_smv_min',\n",
       " 'fea_smv_max',\n",
       " '__index_level_0__']"
      ]
     },
     "execution_count": 7,
     "metadata": {},
     "output_type": "execute_result"
    }
   ],
   "source": [
    "df.columns"
   ]
  },
  {
   "cell_type": "code",
   "execution_count": 15,
   "id": "f9119f0a-dc11-4942-9d43-80bf1e9da259",
   "metadata": {},
   "outputs": [
    {
     "data": {
      "text/plain": [
       "['fea_acc_x_mean',\n",
       " 'fea_acc_x_std',\n",
       " 'fea_acc_x_min',\n",
       " 'fea_acc_x_max',\n",
       " 'fea_acc_y_mean',\n",
       " 'fea_acc_y_std',\n",
       " 'fea_acc_y_min',\n",
       " 'fea_acc_y_max',\n",
       " 'fea_acc_z_mean',\n",
       " 'fea_acc_z_std',\n",
       " 'fea_acc_z_min',\n",
       " 'fea_acc_z_max',\n",
       " 'fea_smv_mean',\n",
       " 'fea_smv_std',\n",
       " 'fea_smv_min',\n",
       " 'fea_smv_max']"
      ]
     },
     "execution_count": 15,
     "metadata": {},
     "output_type": "execute_result"
    }
   ],
   "source": [
    "# Select features columns\n",
    "all_columns = df.columns\n",
    "columns_to_remove = ['subject', 'walk_or_not', '__index_level_0__']\n",
    "features_selected = list(filter(lambda x: x not in columns_to_remove, all_columns))"
   ]
  },
  {
   "cell_type": "code",
   "execution_count": 35,
   "id": "194ac738-e0bf-4610-ba84-9cc922a27be5",
   "metadata": {},
   "outputs": [],
   "source": [
    "# Preprocess feature files\n",
    "\n",
    "vectorAssembler = VectorAssembler(inputCols=features_selected, outputCol=\"features\")\n",
    "v_df = vectorAssembler.transform(df)\n",
    "\n",
    "indexer = StringIndexer(inputCol=\"walk_or_not\", outputCol=\"label\")\n",
    "iv_df = indexer.fit(df).transform(v_df)"
   ]
  },
  {
   "cell_type": "code",
   "execution_count": 36,
   "id": "c89b009d-ede0-4595-a090-0091a65b9ef6",
   "metadata": {},
   "outputs": [
    {
     "data": {
      "text/plain": [
       "DataFrame[subject: string, walk_or_not: bigint, fea_acc_x_mean: double, fea_acc_x_std: double, fea_acc_x_min: double, fea_acc_x_max: double, fea_acc_y_mean: double, fea_acc_y_std: double, fea_acc_y_min: double, fea_acc_y_max: double, fea_acc_z_mean: double, fea_acc_z_std: double, fea_acc_z_min: double, fea_acc_z_max: double, fea_smv_mean: double, fea_smv_std: double, fea_smv_min: double, fea_smv_max: double, __index_level_0__: string, features: vector, label: double]"
      ]
     },
     "execution_count": 36,
     "metadata": {},
     "output_type": "execute_result"
    }
   ],
   "source": [
    "iv_df"
   ]
  },
  {
   "cell_type": "code",
   "execution_count": 37,
   "id": "4baa2a7c-47dd-4447-990e-a8538ecc39bb",
   "metadata": {},
   "outputs": [
    {
     "name": "stdout",
     "output_type": "stream",
     "text": [
      "13730\n",
      "8245\n",
      "5485\n"
     ]
    }
   ],
   "source": [
    "# Split data\n",
    "splits = iv_df.randomSplit([0.6, 0.4], 1)  # Split to two groups: 60% and 40%; seed = 1\n",
    "train_df = splits[0]\n",
    "test_df = splits[1]\n",
    "\n",
    "print(iv_df.count())\n",
    "print(train_df.count())\n",
    "print(test_df.count())"
   ]
  },
  {
   "cell_type": "markdown",
   "id": "175047ec-4ee9-4504-82f5-7458c932ed0b",
   "metadata": {},
   "source": [
    "# Run with Decision Tree"
   ]
  },
  {
   "cell_type": "code",
   "execution_count": 38,
   "id": "c24c03b1-0aea-4d92-b6e5-8362030aa2d4",
   "metadata": {},
   "outputs": [],
   "source": [
    "dt = DecisionTreeClassifier(labelCol=\"label\", featuresCol=\"features\")"
   ]
  },
  {
   "cell_type": "code",
   "execution_count": 39,
   "id": "1c290792-8e8a-414d-9e5b-7bc8b41b1cee",
   "metadata": {},
   "outputs": [],
   "source": [
    "dt_model = dt.fit(train_df)"
   ]
  },
  {
   "cell_type": "code",
   "execution_count": 40,
   "id": "dc74ae78-8df0-4cb0-96cf-f2bf3e5366dc",
   "metadata": {},
   "outputs": [],
   "source": [
    "dt_predictions = dt_model.transform(test_df)"
   ]
  },
  {
   "cell_type": "code",
   "execution_count": 52,
   "id": "3bc74ec9-24f7-4490-aca3-9e9351781444",
   "metadata": {},
   "outputs": [],
   "source": [
    "def dt_evaluator_metricName(metric_name):\n",
    "    dt_evaluator = MulticlassClassificationEvaluator(labelCol=\"label\", predictionCol=\"prediction\", metricName=metric_name)\n",
    "    dt_value = dt_evaluator.evaluate(dt_predictions)\n",
    "    print(metric_name, ':', dt_value)"
   ]
  },
  {
   "cell_type": "code",
   "execution_count": 70,
   "id": "dfba4791-6829-48b0-a6f5-add07582ad80",
   "metadata": {},
   "outputs": [
    {
     "name": "stdout",
     "output_type": "stream",
     "text": [
      "f1 : 0.9018715455734343\n",
      "accuracy : 0.897538742023701\n",
      "-----------------------------------\n",
      "weightedPrecision : 0.9117710819436946\n",
      "weightedRecall : 0.897538742023701\n",
      "weightedTruePositiveRate : 0.897538742023701\n",
      "weightedFalsePositiveRate : 0.12875021665622827\n",
      "weightedFMeasure : 0.9018715455734343\n",
      "-----------------------------------\n",
      "truePositiveRateByLabel : 0.9056306306306307\n",
      "falsePositiveRateByLabel : 0.1368421052631579\n",
      "precisionByLabel : 0.9656580211335255\n",
      "recallByLabel : 0.9056306306306307\n",
      "fMeasureByLabel : 0.9346815434681544\n",
      "-----------------------------------\n",
      "logLoss : 0.2821881718530204\n",
      "hammingLoss : 0.102461257976299\n"
     ]
    }
   ],
   "source": [
    "metric_name = \"f1\"                         # Calculates the F1 score, which is the harmonic mean of precision and recall.\n",
    "dt_evaluator_metricName(metric_name)\n",
    "\n",
    "metric_name = \"accuracy\"                   # Calculates the accuracy of the classification.\n",
    "dt_evaluator_metricName(metric_name)\n",
    "\n",
    "print(\"-----------------------------------\")\n",
    "\n",
    "metric_name = \"weightedPrecision\"          # Calculates the weighted precision, which considers class imbalance by weighting the precision of each class by the number of true instances for that class.\n",
    "dt_evaluator_metricName(metric_name)\n",
    "\n",
    "metric_name = \"weightedRecall\"             # Calculates the weighted recall, which considers class imbalance by weighting the recall of each class by the number of true instances for that class.\n",
    "dt_evaluator_metricName(metric_name)\n",
    "\n",
    "metric_name = \"weightedTruePositiveRate\"   # Calculates the weighted true positive rate, which is the true positive rate of the model weighted by the number of true instances for each label.\n",
    "dt_evaluator_metricName(metric_name)\n",
    "\n",
    "metric_name = \"weightedFalsePositiveRate\"  # Calculates the weighted false positive rate, which is the false positive rate of the model weighted by the number of true instances for each label.\n",
    "dt_evaluator_metricName(metric_name)\n",
    "\n",
    "metric_name = \"weightedFMeasure\"           # Calculates the weighted F1 score, which balances precision and recall, considering class imbalance.\n",
    "dt_evaluator_metricName(metric_name)\n",
    "\n",
    "print(\"-----------------------------------\")\n",
    "\n",
    "metric_name = \"truePositiveRateByLabel\"    # Calculates the true positive rate for each label.\n",
    "dt_evaluator_metricName(metric_name)\n",
    "\n",
    "metric_name = \"falsePositiveRateByLabel\"   # Calculates the false positive rate for each label.\n",
    "dt_evaluator_metricName(metric_name)\n",
    "\n",
    "metric_name = \"precisionByLabel\"           #  Calculates the precision for each label.\n",
    "dt_evaluator_metricName(metric_name)\n",
    "\n",
    "metric_name = \"recallByLabel\"              # Calculates the recall for each label.\n",
    "dt_evaluator_metricName(metric_name)\n",
    "\n",
    "metric_name = \"fMeasureByLabel\"            #  Calculates the F1 score for each label.\n",
    "dt_evaluator_metricName(metric_name)\n",
    "\n",
    "print(\"-----------------------------------\")\n",
    "\n",
    "metric_name = \"logLoss\"                    # Calculates the logarithmic loss.\n",
    "dt_evaluator_metricName(metric_name)\n",
    "\n",
    "metric_name = \"hammingLoss\"                # Calculates the hamming loss.\n",
    "dt_evaluator_metricName(metric_name)"
   ]
  }
 ],
 "metadata": {
  "kernelspec": {
   "display_name": "Python 3 (ipykernel)",
   "language": "python",
   "name": "python3"
  },
  "language_info": {
   "codemirror_mode": {
    "name": "ipython",
    "version": 3
   },
   "file_extension": ".py",
   "mimetype": "text/x-python",
   "name": "python",
   "nbconvert_exporter": "python",
   "pygments_lexer": "ipython3",
   "version": "3.10.13"
  }
 },
 "nbformat": 4,
 "nbformat_minor": 5
}
