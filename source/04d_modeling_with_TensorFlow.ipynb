{
 "cells": [
  {
   "cell_type": "code",
   "execution_count": 3,
   "id": "19b60320-4cff-44bc-8866-77ee54dbea94",
   "metadata": {},
   "outputs": [],
   "source": [
    "import pandas as pd\n",
    "\n",
    "from sklearn.model_selection import train_test_split, GroupShuffleSplit\n",
    "\n",
    "import tensorflow as tf\n",
    "from tensorflow.keras import layers, models, datasets, optimizers"
   ]
  },
  {
   "cell_type": "code",
   "execution_count": 22,
   "id": "005603a4-f5b9-4e41-a0d7-95e813baa3cb",
   "metadata": {},
   "outputs": [
    {
     "name": "stdout",
     "output_type": "stream",
     "text": [
      "x_train shape: (9253, 16)\n",
      "x_test shape: (4477, 16)\n",
      "y_train shape: (9253,)\n",
      "y_test shape: (4477,)\n"
     ]
    }
   ],
   "source": [
    "df = pd.read_parquet('../outputs/df_features_all.parquet')\n",
    "\n",
    "# Separate features (X) and target variable (y)\n",
    "X = df.drop(columns=['subject', 'walk_or_not'])  # Features\n",
    "y = df['walk_or_not']                            # Target variable\n",
    "\n",
    "# GroupShuffleSplit based on the subject column\n",
    "gss = GroupShuffleSplit(n_splits=1, test_size=0.3, random_state=42)\n",
    "\n",
    "# Split data into training and testing sets\n",
    "for train_idx, test_idx in gss.split(X, y, groups=df['subject']):\n",
    "    x_train, x_test = X.iloc[train_idx], X.iloc[test_idx]\n",
    "    y_train, y_test = y.iloc[train_idx], y.iloc[test_idx]\n",
    "\n",
    "# Print the shape of the train and test sets\n",
    "print(\"x_train shape:\", x_train.shape)\n",
    "print(\"x_test shape:\", x_test.shape)\n",
    "print(\"y_train shape:\", y_train.shape)\n",
    "print(\"y_test shape:\", y_test.shape)"
   ]
  },
  {
   "cell_type": "code",
   "execution_count": 24,
   "id": "8fadc190-0aff-4efc-9ed4-b68b908141b4",
   "metadata": {},
   "outputs": [
    {
     "name": "stdout",
     "output_type": "stream",
     "text": [
      "Epoch 1/5\n",
      "938/938 [==============================] - 2s 2ms/step - loss: 0.0294 - accuracy: 0.9910\n",
      "Epoch 2/5\n",
      "938/938 [==============================] - 2s 2ms/step - loss: 0.0103 - accuracy: 0.9969\n",
      "Epoch 3/5\n",
      "938/938 [==============================] - 2s 2ms/step - loss: 0.0067 - accuracy: 0.9980\n",
      "Epoch 4/5\n",
      "938/938 [==============================] - 2s 2ms/step - loss: 0.0053 - accuracy: 0.9983\n",
      "Epoch 5/5\n",
      "938/938 [==============================] - 2s 2ms/step - loss: 0.0032 - accuracy: 0.9990\n",
      "1875/1875 [==============================] - 2s 1ms/step - loss: 0.0025 - accuracy: 0.9993\n",
      "Accuracy: 0.9993333220481873\n"
     ]
    }
   ],
   "source": [
    "import tensorflow as tf\n",
    "from tensorflow.keras import datasets, layers, models\n",
    "\n",
    "# Load and preprocess the MNIST dataset\n",
    "(x_train, y_train), _ = datasets.mnist.load_data()\n",
    "x_train = x_train.reshape(-1, 28, 28, 1).astype(\"float32\") / 255.0\n",
    "y_train = (y_train >= 1).astype(\"float32\")  # Binary classification (0: 0, 1: 1)\n",
    "\n",
    "# Create a simple neural network model\n",
    "def create_model():\n",
    "    model = models.Sequential([\n",
    "        layers.Flatten(input_shape=(28, 28, 1)),\n",
    "        layers.Dense(256, activation='relu'),\n",
    "        layers.Dense(1, activation='sigmoid')  # Changed to 1 unit for binary classification\n",
    "    ])\n",
    "    return model\n",
    "\n",
    "# Define the model\n",
    "model = create_model()\n",
    "\n",
    "# Compile the model\n",
    "model.compile(optimizer='adam',\n",
    "              loss='binary_crossentropy',  # Changed to binary_crossentropy\n",
    "              metrics=['accuracy'])\n",
    "\n",
    "# Train the model\n",
    "model.fit(x_train, y_train, epochs=5, batch_size=64)\n",
    "\n",
    "# Evaluate the model\n",
    "_, accuracy = model.evaluate(x_train, y_train)\n",
    "print('Accuracy:', accuracy)"
   ]
  }
 ],
 "metadata": {
  "kernelspec": {
   "display_name": "Python 3 (ipykernel)",
   "language": "python",
   "name": "python3"
  },
  "language_info": {
   "codemirror_mode": {
    "name": "ipython",
    "version": 3
   },
   "file_extension": ".py",
   "mimetype": "text/x-python",
   "name": "python",
   "nbconvert_exporter": "python",
   "pygments_lexer": "ipython3",
   "version": "3.10.13"
  }
 },
 "nbformat": 4,
 "nbformat_minor": 5
}
