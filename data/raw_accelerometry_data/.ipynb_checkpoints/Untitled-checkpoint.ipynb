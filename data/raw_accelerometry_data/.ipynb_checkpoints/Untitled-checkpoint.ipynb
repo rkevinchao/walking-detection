{
 "cells": [
  {
   "cell_type": "code",
   "execution_count": 1,
   "metadata": {},
   "outputs": [],
   "source": [
    "import pandas as pd\n",
    "import matplotlib.pyplot as plt"
   ]
  },
  {
   "cell_type": "code",
   "execution_count": 3,
   "metadata": {},
   "outputs": [
    {
     "data": {
      "text/html": [
       "<div>\n",
       "<style scoped>\n",
       "    .dataframe tbody tr th:only-of-type {\n",
       "        vertical-align: middle;\n",
       "    }\n",
       "\n",
       "    .dataframe tbody tr th {\n",
       "        vertical-align: top;\n",
       "    }\n",
       "\n",
       "    .dataframe thead th {\n",
       "        text-align: right;\n",
       "    }\n",
       "</style>\n",
       "<table border=\"1\" class=\"dataframe\">\n",
       "  <thead>\n",
       "    <tr style=\"text-align: right;\">\n",
       "      <th></th>\n",
       "      <th>activity</th>\n",
       "      <th>time_s</th>\n",
       "      <th>lw_x</th>\n",
       "      <th>lw_y</th>\n",
       "      <th>lw_z</th>\n",
       "      <th>lh_x</th>\n",
       "      <th>lh_y</th>\n",
       "      <th>lh_z</th>\n",
       "      <th>la_x</th>\n",
       "      <th>la_y</th>\n",
       "      <th>la_z</th>\n",
       "      <th>ra_x</th>\n",
       "      <th>ra_y</th>\n",
       "      <th>ra_z</th>\n",
       "    </tr>\n",
       "  </thead>\n",
       "  <tbody>\n",
       "    <tr>\n",
       "      <th>0</th>\n",
       "      <td>99</td>\n",
       "      <td>0.01</td>\n",
       "      <td>0.039</td>\n",
       "      <td>1.020</td>\n",
       "      <td>-0.020</td>\n",
       "      <td>-0.180</td>\n",
       "      <td>1.234</td>\n",
       "      <td>0.023</td>\n",
       "      <td>0.156</td>\n",
       "      <td>0.855</td>\n",
       "      <td>-0.582</td>\n",
       "      <td>0.887</td>\n",
       "      <td>0.449</td>\n",
       "      <td>0.074</td>\n",
       "    </tr>\n",
       "    <tr>\n",
       "      <th>1</th>\n",
       "      <td>99</td>\n",
       "      <td>0.02</td>\n",
       "      <td>-0.629</td>\n",
       "      <td>-0.461</td>\n",
       "      <td>0.973</td>\n",
       "      <td>-0.246</td>\n",
       "      <td>0.137</td>\n",
       "      <td>0.969</td>\n",
       "      <td>-0.707</td>\n",
       "      <td>0.559</td>\n",
       "      <td>0.449</td>\n",
       "      <td>-0.027</td>\n",
       "      <td>0.141</td>\n",
       "      <td>0.934</td>\n",
       "    </tr>\n",
       "    <tr>\n",
       "      <th>2</th>\n",
       "      <td>99</td>\n",
       "      <td>0.03</td>\n",
       "      <td>-0.926</td>\n",
       "      <td>-1.262</td>\n",
       "      <td>0.691</td>\n",
       "      <td>0.238</td>\n",
       "      <td>-0.328</td>\n",
       "      <td>1.219</td>\n",
       "      <td>-1.445</td>\n",
       "      <td>1.367</td>\n",
       "      <td>0.367</td>\n",
       "      <td>-0.164</td>\n",
       "      <td>0.660</td>\n",
       "      <td>1.344</td>\n",
       "    </tr>\n",
       "    <tr>\n",
       "      <th>3</th>\n",
       "      <td>99</td>\n",
       "      <td>0.04</td>\n",
       "      <td>-0.871</td>\n",
       "      <td>-1.496</td>\n",
       "      <td>-0.246</td>\n",
       "      <td>0.711</td>\n",
       "      <td>-0.484</td>\n",
       "      <td>0.414</td>\n",
       "      <td>-1.660</td>\n",
       "      <td>1.645</td>\n",
       "      <td>-0.543</td>\n",
       "      <td>-0.141</td>\n",
       "      <td>1.027</td>\n",
       "      <td>0.707</td>\n",
       "    </tr>\n",
       "    <tr>\n",
       "      <th>4</th>\n",
       "      <td>99</td>\n",
       "      <td>0.05</td>\n",
       "      <td>-0.727</td>\n",
       "      <td>-1.621</td>\n",
       "      <td>-0.559</td>\n",
       "      <td>1.031</td>\n",
       "      <td>-0.297</td>\n",
       "      <td>0.145</td>\n",
       "      <td>-1.762</td>\n",
       "      <td>1.676</td>\n",
       "      <td>-0.918</td>\n",
       "      <td>-0.121</td>\n",
       "      <td>1.230</td>\n",
       "      <td>0.438</td>\n",
       "    </tr>\n",
       "  </tbody>\n",
       "</table>\n",
       "</div>"
      ],
      "text/plain": [
       "   activity  time_s   lw_x   lw_y   lw_z   lh_x   lh_y   lh_z   la_x   la_y  \\\n",
       "0        99    0.01  0.039  1.020 -0.020 -0.180  1.234  0.023  0.156  0.855   \n",
       "1        99    0.02 -0.629 -0.461  0.973 -0.246  0.137  0.969 -0.707  0.559   \n",
       "2        99    0.03 -0.926 -1.262  0.691  0.238 -0.328  1.219 -1.445  1.367   \n",
       "3        99    0.04 -0.871 -1.496 -0.246  0.711 -0.484  0.414 -1.660  1.645   \n",
       "4        99    0.05 -0.727 -1.621 -0.559  1.031 -0.297  0.145 -1.762  1.676   \n",
       "\n",
       "    la_z   ra_x   ra_y   ra_z  \n",
       "0 -0.582  0.887  0.449  0.074  \n",
       "1  0.449 -0.027  0.141  0.934  \n",
       "2  0.367 -0.164  0.660  1.344  \n",
       "3 -0.543 -0.141  1.027  0.707  \n",
       "4 -0.918 -0.121  1.230  0.438  "
      ]
     },
     "execution_count": 3,
     "metadata": {},
     "output_type": "execute_result"
    }
   ],
   "source": [
    "df = pd.read_csv('id00b70b13.csv')\n",
    "df.head()"
   ]
  },
  {
   "cell_type": "code",
   "execution_count": 5,
   "metadata": {},
   "outputs": [
    {
     "data": {
      "text/html": [
       "<div>\n",
       "<style scoped>\n",
       "    .dataframe tbody tr th:only-of-type {\n",
       "        vertical-align: middle;\n",
       "    }\n",
       "\n",
       "    .dataframe tbody tr th {\n",
       "        vertical-align: top;\n",
       "    }\n",
       "\n",
       "    .dataframe thead th {\n",
       "        text-align: right;\n",
       "    }\n",
       "</style>\n",
       "<table border=\"1\" class=\"dataframe\">\n",
       "  <thead>\n",
       "    <tr style=\"text-align: right;\">\n",
       "      <th></th>\n",
       "      <th>activity</th>\n",
       "      <th>time_s</th>\n",
       "      <th>lw_x</th>\n",
       "      <th>lw_y</th>\n",
       "      <th>lw_z</th>\n",
       "      <th>lh_x</th>\n",
       "      <th>lh_y</th>\n",
       "      <th>lh_z</th>\n",
       "      <th>la_x</th>\n",
       "      <th>la_y</th>\n",
       "      <th>la_z</th>\n",
       "      <th>ra_x</th>\n",
       "      <th>ra_y</th>\n",
       "      <th>ra_z</th>\n",
       "    </tr>\n",
       "  </thead>\n",
       "  <tbody>\n",
       "    <tr>\n",
       "      <th>26313</th>\n",
       "      <td>1</td>\n",
       "      <td>263.14</td>\n",
       "      <td>0.137</td>\n",
       "      <td>-1.648</td>\n",
       "      <td>0.082</td>\n",
       "      <td>0.879</td>\n",
       "      <td>-0.965</td>\n",
       "      <td>0.664</td>\n",
       "      <td>-0.023</td>\n",
       "      <td>1.016</td>\n",
       "      <td>-0.090</td>\n",
       "      <td>-0.262</td>\n",
       "      <td>1.152</td>\n",
       "      <td>-0.039</td>\n",
       "    </tr>\n",
       "    <tr>\n",
       "      <th>26314</th>\n",
       "      <td>1</td>\n",
       "      <td>263.15</td>\n",
       "      <td>0.156</td>\n",
       "      <td>-1.594</td>\n",
       "      <td>0.098</td>\n",
       "      <td>0.793</td>\n",
       "      <td>-0.859</td>\n",
       "      <td>0.484</td>\n",
       "      <td>-0.035</td>\n",
       "      <td>1.016</td>\n",
       "      <td>-0.051</td>\n",
       "      <td>-0.297</td>\n",
       "      <td>1.273</td>\n",
       "      <td>-0.090</td>\n",
       "    </tr>\n",
       "    <tr>\n",
       "      <th>26315</th>\n",
       "      <td>1</td>\n",
       "      <td>263.16</td>\n",
       "      <td>0.160</td>\n",
       "      <td>-1.539</td>\n",
       "      <td>0.109</td>\n",
       "      <td>0.691</td>\n",
       "      <td>-0.789</td>\n",
       "      <td>0.344</td>\n",
       "      <td>-0.055</td>\n",
       "      <td>1.031</td>\n",
       "      <td>0.000</td>\n",
       "      <td>-0.461</td>\n",
       "      <td>1.348</td>\n",
       "      <td>-0.055</td>\n",
       "    </tr>\n",
       "    <tr>\n",
       "      <th>26316</th>\n",
       "      <td>1</td>\n",
       "      <td>263.17</td>\n",
       "      <td>0.156</td>\n",
       "      <td>-1.504</td>\n",
       "      <td>0.113</td>\n",
       "      <td>0.488</td>\n",
       "      <td>-0.734</td>\n",
       "      <td>0.309</td>\n",
       "      <td>-0.082</td>\n",
       "      <td>1.043</td>\n",
       "      <td>0.047</td>\n",
       "      <td>-0.398</td>\n",
       "      <td>1.363</td>\n",
       "      <td>-0.105</td>\n",
       "    </tr>\n",
       "    <tr>\n",
       "      <th>26317</th>\n",
       "      <td>1</td>\n",
       "      <td>263.18</td>\n",
       "      <td>0.148</td>\n",
       "      <td>-1.500</td>\n",
       "      <td>0.105</td>\n",
       "      <td>0.387</td>\n",
       "      <td>-0.848</td>\n",
       "      <td>0.270</td>\n",
       "      <td>-0.086</td>\n",
       "      <td>1.055</td>\n",
       "      <td>0.094</td>\n",
       "      <td>-0.488</td>\n",
       "      <td>1.363</td>\n",
       "      <td>-0.066</td>\n",
       "    </tr>\n",
       "  </tbody>\n",
       "</table>\n",
       "</div>"
      ],
      "text/plain": [
       "       activity  time_s   lw_x   lw_y   lw_z   lh_x   lh_y   lh_z   la_x  \\\n",
       "26313         1  263.14  0.137 -1.648  0.082  0.879 -0.965  0.664 -0.023   \n",
       "26314         1  263.15  0.156 -1.594  0.098  0.793 -0.859  0.484 -0.035   \n",
       "26315         1  263.16  0.160 -1.539  0.109  0.691 -0.789  0.344 -0.055   \n",
       "26316         1  263.17  0.156 -1.504  0.113  0.488 -0.734  0.309 -0.082   \n",
       "26317         1  263.18  0.148 -1.500  0.105  0.387 -0.848  0.270 -0.086   \n",
       "\n",
       "        la_y   la_z   ra_x   ra_y   ra_z  \n",
       "26313  1.016 -0.090 -0.262  1.152 -0.039  \n",
       "26314  1.016 -0.051 -0.297  1.273 -0.090  \n",
       "26315  1.031  0.000 -0.461  1.348 -0.055  \n",
       "26316  1.043  0.047 -0.398  1.363 -0.105  \n",
       "26317  1.055  0.094 -0.488  1.363 -0.066  "
      ]
     },
     "execution_count": 5,
     "metadata": {},
     "output_type": "execute_result"
    }
   ],
   "source": [
    "df2 = df[df['activity']==1]\n",
    "df2.head()"
   ]
  },
  {
   "cell_type": "code",
   "execution_count": 10,
   "metadata": {},
   "outputs": [
    {
     "data": {
      "text/plain": [
       "[<matplotlib.lines.Line2D at 0x11d04dd30>]"
      ]
     },
     "execution_count": 10,
     "metadata": {},
     "output_type": "execute_result"
    },
    {
     "data": {
      "image/png": "[encoded data removed]",
      "text/plain": [
       "<Figure size 432x288 with 1 Axes>"
      ]
     },
     "metadata": {
      "needs_background": "light"
     },
     "output_type": "display_data"
    }
   ],
   "source": [
    "plt.plot(df.time_s, df.lw_x)\n",
    "plt.plot(df.time_s, df.lw_y)\n",
    "plt.plot(df.time_s, df.lw_z)"
   ]
  },
  {
   "cell_type": "code",
   "execution_count": 11,
   "metadata": {},
   "outputs": [
    {
     "data": {
      "text/plain": [
       "(700, 710)"
      ]
     },
     "execution_count": 11,
     "metadata": {},
     "output_type": "execute_result"
    },
    {
     "data": {
      "image/png": "[encoded data removed]",
      "text/plain": [
       "<Figure size 432x288 with 1 Axes>"
      ]
     },
     "metadata": {
      "needs_background": "light"
     },
     "output_type": "display_data"
    }
   ],
   "source": [
    "plt.plot(df2.time_s, df2.lw_x)\n",
    "plt.plot(df2.time_s, df2.lw_y)\n",
    "plt.plot(df2.time_s, df2.lw_z)\n",
    "plt.xlim(700, 710)"
   ]
  },
  {
   "cell_type": "code",
   "execution_count": null,
   "metadata": {},
   "outputs": [],
   "source": []
  }
 ],
 "metadata": {
  "kernelspec": {
   "display_name": "Python 3",
   "language": "python",
   "name": "python3"
  },
  "language_info": {
   "codemirror_mode": {
    "name": "ipython",
    "version": 3
   },
   "file_extension": ".py",
   "mimetype": "text/x-python",
   "name": "python",
   "nbconvert_exporter": "python",
   "pygments_lexer": "ipython3",
   "version": "3.7.3"
  }
 },
 "nbformat": 4,
 "nbformat_minor": 4
}
